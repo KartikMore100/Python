{
 "cells": [
  {
   "cell_type": "code",
   "execution_count": 1,
   "id": "ad63c40c-9c0c-4d6f-874d-3ca923bfb5c3",
   "metadata": {},
   "outputs": [
    {
     "name": "stdout",
     "output_type": "stream",
     "text": [
      "*\n",
      "**\n",
      "***\n",
      "****\n"
     ]
    }
   ],
   "source": [
    "for i in range(1,5):\n",
    "    for j in range(1,i+1):\n",
    "        print(\"*\", end = \"\")\n",
    "    print(\"\\r\")"
   ]
  },
  {
   "cell_type": "code",
   "execution_count": 2,
   "id": "e7d13cdd-0db7-439a-94cd-9f2538384398",
   "metadata": {},
   "outputs": [
    {
     "name": "stdout",
     "output_type": "stream",
     "text": [
      "1\n",
      "12\n",
      "123\n",
      "1234\n"
     ]
    }
   ],
   "source": [
    "for i in range(1,5):\n",
    "    for j in range(1,i+1):\n",
    "        print(j, end = \"\")\n",
    "    print(\"\\r\")"
   ]
  },
  {
   "cell_type": "code",
   "execution_count": 16,
   "id": "38081564-d623-4240-bf71-491c4902f08d",
   "metadata": {},
   "outputs": [],
   "source": []
  },
  {
   "cell_type": "code",
   "execution_count": null,
   "id": "e15a6f11-23ca-4699-887a-cb81f5d36ec0",
   "metadata": {},
   "outputs": [],
   "source": []
  },
  {
   "cell_type": "code",
   "execution_count": 93,
   "id": "92fa5961-653f-4ed2-ba05-df0004f1f617",
   "metadata": {},
   "outputs": [
    {
     "name": "stdout",
     "output_type": "stream",
     "text": [
      "    *\n",
      "   * *\n",
      "  * * *\n",
      " * * * *\n",
      "    |\n"
     ]
    }
   ],
   "source": [
    "n = 5\n",
    "for i in range(1,n):\n",
    "    for j in range(1,n-i):\n",
    "        print(\" \", end = \"\")\n",
    "    for k in range(1,i+1):\n",
    "        print(\" *\", end=\"\")\n",
    "    print(\"\\r\")\n",
    "print(\"    |\")"
   ]
  },
  {
   "cell_type": "code",
   "execution_count": 80,
   "id": "36b6b718-56d6-420e-a4a7-8a991e6389ad",
   "metadata": {},
   "outputs": [
    {
     "name": "stdout",
     "output_type": "stream",
     "text": [
      "*****\n",
      "****\n",
      "***\n",
      "**\n",
      "*\n"
     ]
    }
   ],
   "source": [
    "n=6\n",
    "for i in range(1,n):\n",
    "    for j in range(i,n):\n",
    "        print(\"*\", end=\"\")\n",
    "    print(\"\\r\")"
   ]
  },
  {
   "cell_type": "code",
   "execution_count": 95,
   "id": "54cb2242-608e-47cd-85e9-a6e36a891991",
   "metadata": {},
   "outputs": [
    {
     "name": "stdout",
     "output_type": "stream",
     "text": [
      "*****\n",
      " ****\n",
      "  ***\n",
      "   **\n",
      "    *\n"
     ]
    }
   ],
   "source": [
    "n=6\n",
    "for i in range(1,n):\n",
    "    for j in range(1,i):\n",
    "        print(\" \", end=\"\")\n",
    "    for k in range(i,n):\n",
    "        print(\"*\",end=\"\")\n",
    "    print(\"\\r\")"
   ]
  },
  {
   "cell_type": "code",
   "execution_count": 13,
   "id": "580781b2-1018-473c-b19f-acb99fd8c2ab",
   "metadata": {},
   "outputs": [
    {
     "name": "stdout",
     "output_type": "stream",
     "text": [
      " * * * * *\n",
      "   * * *\n",
      "     *\n"
     ]
    }
   ],
   "source": [
    "n=6\n",
    "for i in range(1,n,2):\n",
    "    for j in range(1,i):\n",
    "        print(\" \", end=\"\")\n",
    "    for k in range(i,n):\n",
    "        print(\" *\", end=\"\")\n",
    "    print(\"\\r\")"
   ]
  },
  {
   "cell_type": "code",
   "execution_count": 27,
   "id": "9c89db29-e4a0-419b-ae4e-82f426dabf95",
   "metadata": {},
   "outputs": [
    {
     "name": "stdout",
     "output_type": "stream",
     "text": [
      "('A', 'B', 'C', 'D', 'E')\n",
      "('A', 'B', 'C', 'D', 'E')('A', 'B', 'C', 'D', 'E')\n",
      "('A', 'B', 'C', 'D', 'E')('A', 'B', 'C', 'D', 'E')('A', 'B', 'C', 'D', 'E')\n",
      "('A', 'B', 'C', 'D', 'E')('A', 'B', 'C', 'D', 'E')('A', 'B', 'C', 'D', 'E')('A', 'B', 'C', 'D', 'E')\n",
      "('A', 'B', 'C', 'D', 'E')('A', 'B', 'C', 'D', 'E')('A', 'B', 'C', 'D', 'E')('A', 'B', 'C', 'D', 'E')('A', 'B', 'C', 'D', 'E')\n"
     ]
    }
   ],
   "source": [
    "n = 'A','B','C','D','E'\n",
    "for i in range(1,6):\n",
    "    for j in range(1,i+1):\n",
    "        print(n, end = \"\")\n",
    "    print(\"\\r\")"
   ]
  },
  {
   "cell_type": "code",
   "execution_count": 36,
   "id": "0e1919d3-1100-4e5c-b293-2c6ff46eb5c3",
   "metadata": {},
   "outputs": [
    {
     "name": "stdout",
     "output_type": "stream",
     "text": [
      "8888888\n",
      "777777\n",
      "66666\n",
      "5555\n",
      "444\n",
      "33\n",
      "2\n"
     ]
    }
   ],
   "source": [
    "n = 8\n",
    "for i in range(1,8):\n",
    "    for k in range(1, 9-i):\n",
    "        print(n, end=\"\")\n",
    "    print(\"\\r\")\n",
    "    n=n-1"
   ]
  },
  {
   "cell_type": "code",
   "execution_count": 42,
   "id": "a7ac9b3c-0762-4970-9219-2a925e6932ad",
   "metadata": {},
   "outputs": [
    {
     "name": "stdout",
     "output_type": "stream",
     "text": [
      "AAAAAAA \n",
      "BBBBBB \n",
      "CCCCC \n",
      "DDDD \n",
      "EEE \n",
      "FF \n",
      "G \n"
     ]
    }
   ],
   "source": [
    "n = 65\n",
    "for i in range(1,8):\n",
    "    for j in range(1,9-i):\n",
    "        print(chr(n), end=\"\")\n",
    "    print(\" \")\n",
    "    n=n+1\n",
    "    "
   ]
  },
  {
   "cell_type": "code",
   "execution_count": null,
   "id": "fb252a7d-9307-4534-944f-bb891b3518f9",
   "metadata": {},
   "outputs": [],
   "source": []
  }
 ],
 "metadata": {
  "kernelspec": {
   "display_name": "Python 3 (ipykernel)",
   "language": "python",
   "name": "python3"
  },
  "language_info": {
   "codemirror_mode": {
    "name": "ipython",
    "version": 3
   },
   "file_extension": ".py",
   "mimetype": "text/x-python",
   "name": "python",
   "nbconvert_exporter": "python",
   "pygments_lexer": "ipython3",
   "version": "3.11.7"
  }
 },
 "nbformat": 4,
 "nbformat_minor": 5
}
