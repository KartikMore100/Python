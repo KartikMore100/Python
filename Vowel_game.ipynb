{
 "cells": [
  {
   "cell_type": "code",
   "execution_count": 1,
   "id": "f9287867-6b02-4d35-9cf2-1be0443d4fbb",
   "metadata": {},
   "outputs": [
    {
     "name": "stdout",
     "output_type": "stream",
     "text": [
      "Number of 'a's: 1\n",
      "Number of 'e's: 5\n",
      "Number of 'i's: 3\n",
      "Number of 'o's: 3\n",
      "Number of 'u's: 0\n",
      "Number of vowels in given sentences: 12\n"
     ]
    }
   ],
   "source": [
    "string = 'Messi is the best footballer in the world'\n",
    "vowels = ['a', 'e', 'i', 'o', 'u']\n",
    "\n",
    "count_a = 0\n",
    "count_e = 0\n",
    "count_i = 0\n",
    "count_o = 0\n",
    "count_u = 0\n",
    "count = 0\n",
    "\n",
    "for i in string:\n",
    "    for j in i:\n",
    "        if j.lower() in vowels :\n",
    "            count = count + 1\n",
    "    if i.lower() == 'a':\n",
    "        count_a += 1\n",
    "    elif i.lower() == 'e':\n",
    "        count_e += 1\n",
    "    elif i.lower() == 'i':\n",
    "        count_i += 1\n",
    "    elif i.lower() == 'o':\n",
    "        count_o += 1\n",
    "    elif i.lower() == 'u':\n",
    "        count_u += 1\n",
    "\n",
    "print(\"Number of 'a's:\", count_a)\n",
    "print(\"Number of 'e's:\", count_e)\n",
    "print(\"Number of 'i's:\", count_i)\n",
    "print(\"Number of 'o's:\", count_o)\n",
    "print(\"Number of 'u's:\", count_u)\n",
    "print(\"Number of vowels in given sentences:\", count)"
   ]
  },
  {
   "cell_type": "code",
   "execution_count": null,
   "id": "87727ea3-7220-4f00-937d-d09ac4048234",
   "metadata": {},
   "outputs": [],
   "source": []
  }
 ],
 "metadata": {
  "kernelspec": {
   "display_name": "Python 3 (ipykernel)",
   "language": "python",
   "name": "python3"
  },
  "language_info": {
   "codemirror_mode": {
    "name": "ipython",
    "version": 3
   },
   "file_extension": ".py",
   "mimetype": "text/x-python",
   "name": "python",
   "nbconvert_exporter": "python",
   "pygments_lexer": "ipython3",
   "version": "3.11.7"
  }
 },
 "nbformat": 4,
 "nbformat_minor": 5
}
